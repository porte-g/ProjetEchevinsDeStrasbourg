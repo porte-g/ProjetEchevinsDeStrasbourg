{
 "cells": [
  {
   "cell_type": "code",
   "execution_count": 1,
   "metadata": {},
   "outputs": [],
   "source": [
    "import pandas as pd\n",
    "import numpy as np\n",
    "import jellyfish\n",
    "import timeit"
   ]
  },
  {
   "cell_type": "code",
   "execution_count": 7,
   "metadata": {},
   "outputs": [],
   "source": [
    "with open ('./Data/OccEch.csv', 'r', encoding='utf-8') as file :\n",
    "    df = pd.read_csv(file)\n",
    "    df = df.fillna('')\n",
    "    df['tocompare'] = df['nom'].dropna() + df['surnom'].dropna() + df['genName'].dropna() + df['prenom'].dropna()\n",
    "    \n",
    "    \n",
    "    LsList = []\n",
    "    \n",
    "    for row in df.itertuples():\n",
    "        ArrayList = []\n",
    "\n",
    "        #print(row)\n",
    "        for col in df.columns[16:]:\n",
    "            value1 = getattr(row, col)\n",
    "        for row in df.itertuples():\n",
    "            for col in df.columns[16:]:\n",
    "                value2 = getattr(row, col)\n",
    "            similarity = jellyfish.jaro_winkler_similarity(value1, value2)\n",
    "            ArrayList.append(similarity)\n",
    "        LsList.append(ArrayList)\n",
    "            \n",
    "        #for j in range (0, 1):\n",
    "       # ArrayList = []\n",
    "        #for i in range (0, 1):\n",
    "            #similarity = jellyfish.jaro_winkler_similarity(df.iloc[j, 16], df.iloc[i, 16])\n",
    "            #ArrayList.append(similarity)\n",
    "       # LsList.append(ArrayList)\n",
    "    \n",
    "    #for index1, row1 in df[df['magistrature'] >= 'conseiller_des_marchands'].iterrows():\n",
    "        #ArrayList = []\n",
    "        #for index2, row2 in df[df['magistrature'] >= 'conseiller_des_bouchers'].iterrows():\n",
    "            #similarity = jellyfish.jaro_winkler_similarity(df.iloc[index1]['tocompare'], df.iloc[index2]['tocompare'])\n",
    "            #ArrayList.append(similarity)\n",
    "        #LsList.append(ArrayList)\n",
    "    \n",
    "    df2 = pd.DataFrame(LsList, columns = df['id'].tolist(), index = df['id'].tolist())\n",
    "    df2.to_csv('./Data/EchSimi_JaroWinkler.csv')\n"
   ]
  },
  {
   "cell_type": "code",
   "execution_count": 9,
   "metadata": {},
   "outputs": [],
   "source": [
    "df2.to_csv('./Data/EchSimi_JaroWinkler.csv')"
   ]
  },
  {
   "cell_type": "code",
   "execution_count": null,
   "metadata": {},
   "outputs": [],
   "source": []
  }
 ],
 "metadata": {
  "kernelspec": {
   "display_name": "Python 3",
   "language": "python",
   "name": "python3"
  },
  "language_info": {
   "codemirror_mode": {
    "name": "ipython",
    "version": 3
   },
   "file_extension": ".py",
   "mimetype": "text/x-python",
   "name": "python",
   "nbconvert_exporter": "python",
   "pygments_lexer": "ipython3",
   "version": "3.8.5"
  }
 },
 "nbformat": 4,
 "nbformat_minor": 4
}
