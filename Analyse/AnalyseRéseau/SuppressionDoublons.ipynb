{
 "cells": [
  {
   "cell_type": "code",
   "execution_count": 1,
   "metadata": {},
   "outputs": [],
   "source": [
    "import pandas as pd"
   ]
  },
  {
   "cell_type": "code",
   "execution_count": 2,
   "metadata": {},
   "outputs": [],
   "source": [
    "df = pd.read_csv('./Data/edge.csv')"
   ]
  },
  {
   "cell_type": "code",
   "execution_count": 3,
   "metadata": {},
   "outputs": [],
   "source": [
    "df = df.drop_duplicates(subset='Source', keep=\"last\")"
   ]
  },
  {
   "cell_type": "code",
   "execution_count": 4,
   "metadata": {},
   "outputs": [
    {
     "data": {
      "text/html": [
       "<div>\n",
       "<style scoped>\n",
       "    .dataframe tbody tr th:only-of-type {\n",
       "        vertical-align: middle;\n",
       "    }\n",
       "\n",
       "    .dataframe tbody tr th {\n",
       "        vertical-align: top;\n",
       "    }\n",
       "\n",
       "    .dataframe thead th {\n",
       "        text-align: right;\n",
       "    }\n",
       "</style>\n",
       "<table border=\"1\" class=\"dataframe\">\n",
       "  <thead>\n",
       "    <tr style=\"text-align: right;\">\n",
       "      <th></th>\n",
       "      <th>Source</th>\n",
       "      <th>Target</th>\n",
       "      <th>nature_lien</th>\n",
       "      <th>label</th>\n",
       "    </tr>\n",
       "  </thead>\n",
       "  <tbody>\n",
       "    <tr>\n",
       "      <th>5</th>\n",
       "      <td>aves_aa_4R_auth_0001</td>\n",
       "      <td>1410</td>\n",
       "      <td>conseiller_des_bouchers</td>\n",
       "      <td>metziger, wilhelm</td>\n",
       "    </tr>\n",
       "    <tr>\n",
       "      <th>6</th>\n",
       "      <td>aves_aa_4R_auth_0002</td>\n",
       "      <td>1400</td>\n",
       "      <td>conseiller_des_marchands</td>\n",
       "      <td>colmar, von, hannemann</td>\n",
       "    </tr>\n",
       "    <tr>\n",
       "      <th>7</th>\n",
       "      <td>aves_aa_4R_auth_0003</td>\n",
       "      <td>1400</td>\n",
       "      <td>conseiller_des_boulangers</td>\n",
       "      <td>gerung,</td>\n",
       "    </tr>\n",
       "    <tr>\n",
       "      <th>8</th>\n",
       "      <td>aves_aa_4R_auth_0004</td>\n",
       "      <td>1400</td>\n",
       "      <td>conseiller_des_bouchers</td>\n",
       "      <td>rotschilt, wilhelm</td>\n",
       "    </tr>\n",
       "    <tr>\n",
       "      <th>13</th>\n",
       "      <td>aves_aa_4R_auth_0005</td>\n",
       "      <td>1422</td>\n",
       "      <td>conseiller_des_drapiers</td>\n",
       "      <td>spielmann, claus</td>\n",
       "    </tr>\n",
       "    <tr>\n",
       "      <th>...</th>\n",
       "      <td>...</td>\n",
       "      <td>...</td>\n",
       "      <td>...</td>\n",
       "      <td>...</td>\n",
       "    </tr>\n",
       "    <tr>\n",
       "      <th>2645</th>\n",
       "      <td>aves_aa_4R_auth_0981</td>\n",
       "      <td>1499</td>\n",
       "      <td>conseiller_des_bateliers</td>\n",
       "      <td>arge, peter</td>\n",
       "    </tr>\n",
       "    <tr>\n",
       "      <th>2647</th>\n",
       "      <td>aves_aa_4R_auth_0982</td>\n",
       "      <td>1499</td>\n",
       "      <td>conseiller_des_sauniers</td>\n",
       "      <td>riffe, jerge</td>\n",
       "    </tr>\n",
       "    <tr>\n",
       "      <th>2649</th>\n",
       "      <td>aves_aa_4R_auth_0983</td>\n",
       "      <td>1499</td>\n",
       "      <td>conseiller_des_cordonniers</td>\n",
       "      <td>schultheiss, martin</td>\n",
       "    </tr>\n",
       "    <tr>\n",
       "      <th>2650</th>\n",
       "      <td>aves_aa_4R_auth_0984</td>\n",
       "      <td>1498</td>\n",
       "      <td>conseiller_des_charrons</td>\n",
       "      <td>arbogast, johanns-claus</td>\n",
       "    </tr>\n",
       "    <tr>\n",
       "      <th>2651</th>\n",
       "      <td>aves_aa_4R_auth_0985</td>\n",
       "      <td>1499</td>\n",
       "      <td>conseiller_des_cabaretiers</td>\n",
       "      <td>barpfennig, bartholomeus</td>\n",
       "    </tr>\n",
       "  </tbody>\n",
       "</table>\n",
       "<p>985 rows × 4 columns</p>\n",
       "</div>"
      ],
      "text/plain": [
       "                    Source  Target                 nature_lien  \\\n",
       "5     aves_aa_4R_auth_0001    1410     conseiller_des_bouchers   \n",
       "6     aves_aa_4R_auth_0002    1400    conseiller_des_marchands   \n",
       "7     aves_aa_4R_auth_0003    1400   conseiller_des_boulangers   \n",
       "8     aves_aa_4R_auth_0004    1400     conseiller_des_bouchers   \n",
       "13    aves_aa_4R_auth_0005    1422     conseiller_des_drapiers   \n",
       "...                    ...     ...                         ...   \n",
       "2645  aves_aa_4R_auth_0981    1499    conseiller_des_bateliers   \n",
       "2647  aves_aa_4R_auth_0982    1499     conseiller_des_sauniers   \n",
       "2649  aves_aa_4R_auth_0983    1499  conseiller_des_cordonniers   \n",
       "2650  aves_aa_4R_auth_0984    1498     conseiller_des_charrons   \n",
       "2651  aves_aa_4R_auth_0985    1499  conseiller_des_cabaretiers   \n",
       "\n",
       "                         label  \n",
       "5            metziger, wilhelm  \n",
       "6       colmar, von, hannemann  \n",
       "7                     gerung,   \n",
       "8           rotschilt, wilhelm  \n",
       "13            spielmann, claus  \n",
       "...                        ...  \n",
       "2645               arge, peter  \n",
       "2647              riffe, jerge  \n",
       "2649       schultheiss, martin  \n",
       "2650   arbogast, johanns-claus  \n",
       "2651  barpfennig, bartholomeus  \n",
       "\n",
       "[985 rows x 4 columns]"
      ]
     },
     "execution_count": 4,
     "metadata": {},
     "output_type": "execute_result"
    }
   ],
   "source": [
    "df"
   ]
  },
  {
   "cell_type": "code",
   "execution_count": 5,
   "metadata": {},
   "outputs": [],
   "source": [
    "df.to_csv('./Data/labelNodes.csv', index=False)"
   ]
  },
  {
   "cell_type": "code",
   "execution_count": null,
   "metadata": {},
   "outputs": [],
   "source": []
  }
 ],
 "metadata": {
  "kernelspec": {
   "display_name": "Python 3",
   "language": "python",
   "name": "python3"
  },
  "language_info": {
   "codemirror_mode": {
    "name": "ipython",
    "version": 3
   },
   "file_extension": ".py",
   "mimetype": "text/x-python",
   "name": "python",
   "nbconvert_exporter": "python",
   "pygments_lexer": "ipython3",
   "version": "3.8.5"
  }
 },
 "nbformat": 4,
 "nbformat_minor": 4
}
