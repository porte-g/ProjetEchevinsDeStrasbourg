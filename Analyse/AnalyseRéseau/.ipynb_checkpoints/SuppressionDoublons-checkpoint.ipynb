{
 "cells": [
  {
   "cell_type": "code",
   "execution_count": 2,
   "metadata": {},
   "outputs": [],
   "source": [
    "import pandas as pd"
   ]
  },
  {
   "cell_type": "code",
   "execution_count": 3,
   "metadata": {},
   "outputs": [],
   "source": [
    "df = pd.read_csv('./Data/gephi (copie).csv')"
   ]
  },
  {
   "cell_type": "code",
   "execution_count": 5,
   "metadata": {},
   "outputs": [],
   "source": [
    "df = df.drop_duplicates(subset='Source', keep=\"last\")"
   ]
  },
  {
   "cell_type": "code",
   "execution_count": 6,
   "metadata": {},
   "outputs": [
    {
     "data": {
      "text/html": [
       "<div>\n",
       "<style scoped>\n",
       "    .dataframe tbody tr th:only-of-type {\n",
       "        vertical-align: middle;\n",
       "    }\n",
       "\n",
       "    .dataframe tbody tr th {\n",
       "        vertical-align: top;\n",
       "    }\n",
       "\n",
       "    .dataframe thead th {\n",
       "        text-align: right;\n",
       "    }\n",
       "</style>\n",
       "<table border=\"1\" class=\"dataframe\">\n",
       "  <thead>\n",
       "    <tr style=\"text-align: right;\">\n",
       "      <th></th>\n",
       "      <th>Source</th>\n",
       "      <th>Target</th>\n",
       "      <th>nature_lien</th>\n",
       "      <th>label</th>\n",
       "    </tr>\n",
       "  </thead>\n",
       "  <tbody>\n",
       "    <tr>\n",
       "      <th>5</th>\n",
       "      <td>aves_aa_4R_auth_0001</td>\n",
       "      <td>1410</td>\n",
       "      <td>conseiller_des_bouchers</td>\n",
       "      <td>metziger, wilhelm</td>\n",
       "    </tr>\n",
       "    <tr>\n",
       "      <th>6</th>\n",
       "      <td>aves_aa_4R_auth_0002</td>\n",
       "      <td>1400</td>\n",
       "      <td>conseiller_des_marchands</td>\n",
       "      <td>colmar, von, hannemann</td>\n",
       "    </tr>\n",
       "    <tr>\n",
       "      <th>7</th>\n",
       "      <td>aves_aa_4R_auth_0003</td>\n",
       "      <td>1400</td>\n",
       "      <td>conseiller_des_boulangers</td>\n",
       "      <td>NaN</td>\n",
       "    </tr>\n",
       "    <tr>\n",
       "      <th>11</th>\n",
       "      <td>aves_aa_4R_auth_0004</td>\n",
       "      <td>1467</td>\n",
       "      <td>conseiller_des_bouchers</td>\n",
       "      <td>rotschilt, wilhelm</td>\n",
       "    </tr>\n",
       "    <tr>\n",
       "      <th>16</th>\n",
       "      <td>aves_aa_4R_auth_0005</td>\n",
       "      <td>1422</td>\n",
       "      <td>conseiller_des_drapiers</td>\n",
       "      <td>spielmann, claus</td>\n",
       "    </tr>\n",
       "    <tr>\n",
       "      <th>...</th>\n",
       "      <td>...</td>\n",
       "      <td>...</td>\n",
       "      <td>...</td>\n",
       "      <td>...</td>\n",
       "    </tr>\n",
       "    <tr>\n",
       "      <th>2670</th>\n",
       "      <td>aves_aa_4R_auth_0884</td>\n",
       "      <td>1497</td>\n",
       "      <td>conseiller_des_charrons</td>\n",
       "      <td>rüttel, jerge</td>\n",
       "    </tr>\n",
       "    <tr>\n",
       "      <th>2672</th>\n",
       "      <td>aves_aa_4R_auth_0885</td>\n",
       "      <td>1499</td>\n",
       "      <td>conseiller_des_sauniers</td>\n",
       "      <td>riffe, jerge</td>\n",
       "    </tr>\n",
       "    <tr>\n",
       "      <th>2674</th>\n",
       "      <td>aves_aa_4R_auth_0886</td>\n",
       "      <td>1499</td>\n",
       "      <td>conseiller_des_cordonniers</td>\n",
       "      <td>schultheiss, martin</td>\n",
       "    </tr>\n",
       "    <tr>\n",
       "      <th>2675</th>\n",
       "      <td>aves_aa_4R_auth_0887</td>\n",
       "      <td>1498</td>\n",
       "      <td>conseiller_des_charrons</td>\n",
       "      <td>arbogast, johanns-claus</td>\n",
       "    </tr>\n",
       "    <tr>\n",
       "      <th>2676</th>\n",
       "      <td>aves_aa_4R_auth_0888</td>\n",
       "      <td>1499</td>\n",
       "      <td>conseiller_des_cabaretiers</td>\n",
       "      <td>barpfennig, bartholomeus</td>\n",
       "    </tr>\n",
       "  </tbody>\n",
       "</table>\n",
       "<p>888 rows × 4 columns</p>\n",
       "</div>"
      ],
      "text/plain": [
       "                    Source  Target                 nature_lien  \\\n",
       "5     aves_aa_4R_auth_0001    1410     conseiller_des_bouchers   \n",
       "6     aves_aa_4R_auth_0002    1400    conseiller_des_marchands   \n",
       "7     aves_aa_4R_auth_0003    1400   conseiller_des_boulangers   \n",
       "11    aves_aa_4R_auth_0004    1467     conseiller_des_bouchers   \n",
       "16    aves_aa_4R_auth_0005    1422     conseiller_des_drapiers   \n",
       "...                    ...     ...                         ...   \n",
       "2670  aves_aa_4R_auth_0884    1497     conseiller_des_charrons   \n",
       "2672  aves_aa_4R_auth_0885    1499     conseiller_des_sauniers   \n",
       "2674  aves_aa_4R_auth_0886    1499  conseiller_des_cordonniers   \n",
       "2675  aves_aa_4R_auth_0887    1498     conseiller_des_charrons   \n",
       "2676  aves_aa_4R_auth_0888    1499  conseiller_des_cabaretiers   \n",
       "\n",
       "                         label  \n",
       "5            metziger, wilhelm  \n",
       "6       colmar, von, hannemann  \n",
       "7                          NaN  \n",
       "11          rotschilt, wilhelm  \n",
       "16            spielmann, claus  \n",
       "...                        ...  \n",
       "2670             rüttel, jerge  \n",
       "2672              riffe, jerge  \n",
       "2674       schultheiss, martin  \n",
       "2675   arbogast, johanns-claus  \n",
       "2676  barpfennig, bartholomeus  \n",
       "\n",
       "[888 rows x 4 columns]"
      ]
     },
     "execution_count": 6,
     "metadata": {},
     "output_type": "execute_result"
    }
   ],
   "source": [
    "df"
   ]
  },
  {
   "cell_type": "code",
   "execution_count": 8,
   "metadata": {},
   "outputs": [],
   "source": [
    "df.to_csv('./Data/gephi (copie).csv', index=False)"
   ]
  },
  {
   "cell_type": "code",
   "execution_count": null,
   "metadata": {},
   "outputs": [],
   "source": []
  }
 ],
 "metadata": {
  "kernelspec": {
   "display_name": "Python 3",
   "language": "python",
   "name": "python3"
  },
  "language_info": {
   "codemirror_mode": {
    "name": "ipython",
    "version": 3
   },
   "file_extension": ".py",
   "mimetype": "text/x-python",
   "name": "python",
   "nbconvert_exporter": "python",
   "pygments_lexer": "ipython3",
   "version": "3.8.5"
  }
 },
 "nbformat": 4,
 "nbformat_minor": 4
}
