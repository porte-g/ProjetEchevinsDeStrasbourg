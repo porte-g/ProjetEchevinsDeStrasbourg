{
 "cells": [
  {
   "cell_type": "markdown",
   "metadata": {},
   "source": [
    "# Importation des modules"
   ]
  },
  {
   "cell_type": "code",
   "execution_count": 2,
   "metadata": {},
   "outputs": [],
   "source": [
    "import pandas as pd\n",
    "import numpy as np\n",
    "from bs4 import BeautifulSoup\n",
    "from ast import literal_eval\n",
    "import csv\n",
    "import re"
   ]
  },
  {
   "cell_type": "code",
   "execution_count": 6,
   "metadata": {},
   "outputs": [],
   "source": [
    "RefNom = pd.read_csv(\"./../Referentiels/ReferentielNoms.csv\",converters={\"FormesNonNormalisées\": literal_eval}).set_index(\"NomNormalisé\")\n",
    "RefPrenom = pd.read_csv(\"./../Referentiels/ReferentielPrenoms.csv\", converters={\"FormesNonNormalisées\": literal_eval}).set_index(\"PrénomNormalisé\")"
   ]
  },
  {
   "cell_type": "code",
   "execution_count": 13,
   "metadata": {},
   "outputs": [],
   "source": [
    "def Parsing(CheminRelatifFichier, DivCC):\n",
    "    soup = BeautifulSoup(open(CheminRelatifFichier, 'r'))\n",
    "    \n",
    "    #On commence par itérer à travers les balises div typées 'date'.\n",
    "    \n",
    "    for DivDate in soup.find_all('div', attrs={'type' : 'date'}):\n",
    "        \n",
    "        #On crée une variable où l'on enregistre la valeur de la date.\n",
    "        \n",
    "        Année = DivDate['n']\n",
    "        \n",
    "        \n",
    "        #On crée notre Liste qui correspondra au conseil et qu'on transformera plus tard en DataFrame.\n",
    "        \n",
    "        ListeDicosPersonnes = []\n",
    "        \n",
    "        #On itère à travers les personnes.\n",
    "        \n",
    "        for persname in DivDate.find_all('persname'):\n",
    "            \n",
    "            \n",
    "            DicoPersonne = {}\n",
    "            \n",
    "            #On commence par récupérer les informations présentes dans les balises parentes.\n",
    "            \n",
    "            for div in persname.find_parents('div'):\n",
    "                \n",
    "                if div['type'] == 'ordre' :\n",
    "                    \n",
    "                    DicoPersonne['corps civique'] = div['n']\n",
    "                \n",
    "                if div['type'] == 'corporation':\n",
    "                    \n",
    "                    DicoPersonne['corporation'] = div['n']\n",
    "                    \n",
    "                if div['type'] == 'magistrature':\n",
    "                    \n",
    "                    DicoPersonne['magistrature'] = div['n']\n",
    "                    DicoPersonne['AnnéeMagistrature'] = Année\n",
    "                \n",
    "                if div['type'] == 'poele':\n",
    "                    \n",
    "                    DicoPersonne['poele'] = div['n']\n",
    "            \n",
    "            for surname in persname.find_all('surname'):\n",
    "                \n",
    "                DicoPersonne['nomNN'] = surname.get_text()\n",
    "                \n",
    "                DataToComp = surname.get_text()\n",
    "                DataToComp = re.sub(r\"\\n\", \" \", DataToComp)\n",
    "                DataToComp = DataToComp.lower()\n",
    "                if type(DataToComp) == float:\n",
    "                    DicoPersonne['nom'] = ''\n",
    "                for j in range (0, len(RefNom.index)):\n",
    "                    CheckN = RefNom.iloc[j,1]\n",
    "                    for element in CheckN:\n",
    "                        if DataToComp == element:\n",
    "                            DicoPersonne['nom'] = RefNom.index[j]\n",
    "                            \n",
    "            # Loop pour prénom non normalisé.\n",
    "            \n",
    "            for forename in persname.find_all('forename'):\n",
    "                DicoPersonne['prénomNN'] = forename.get_text()\n",
    "        \n",
    "                # Loop pour prénom normalisé.\n",
    "                DataToComp = forename.get_text()\n",
    "                DataToComp = re.sub(r\"\\n\", \" \", DataToComp)\n",
    "                DataToComp = DataToComp.lower()\n",
    "                if type(DataToComp) == float:\n",
    "                    DicoPersonne['prénom'] = ''\n",
    "                for j in range (0, len(RefPrenom.index)):\n",
    "                    CheckN = RefPrenom.iloc[j,2]\n",
    "                    for element in CheckN:\n",
    "                        if DataToComp == element:\n",
    "                            DicoPersonne['prénom'] = RefPrenom.index[j]\n",
    "                            \n",
    "            for addName in persname.find_all('addname'):\n",
    "                DicoPersonne['surnomNN'] = addName.get_text()\n",
    "                \n",
    "                DataToComp = addName.get_text()\n",
    "                DataToComp = re.sub(r\"\\n\", \" \", DataToComp)\n",
    "                if type(DataToComp) == float:\n",
    "                    DicoPersonne['surnom'] = ''\n",
    "                for j in range (0, len(RefNom.index)):\n",
    "                    CheckN = RefNom.iloc[j,1]\n",
    "                    for element in CheckN:\n",
    "                        if DataToComp == element:\n",
    "                            DicoPersonne['surnom'] = RefNom.index[j]\n",
    "                            \n",
    "            Roles = []\n",
    "            for rolename in persname.find_all('rolename'):\n",
    "                Role = rolename.get_text()\n",
    "                Roles.append(Role)\n",
    "                DicoPersonne['Titres'] = Roles\n",
    "                            \n",
    "            for genname in persname.find_all('genname'):\n",
    "                DicoPersonne['genName'] = genname.get_text()\n",
    "                \n",
    "            NomCompletNN =  persname.get_text()\n",
    "            NomCompletNN = re.sub(r\"\\n\", \" \", NomCompletNN)\n",
    "            DicoPersonne['NomCompletNN'] = NomCompletNN\n",
    "            \n",
    "            ListeDicosPersonnes.append(DicoPersonne)\n",
    "            \n",
    "            DfListe = pd.DataFrame(ListeDicosPersonnes)\n",
    "            DfListe = DfListe.reindex(columns=['magistrature', 'AnnéeMagistrature', 'prénom', 'nom', 'surnom', 'genName', 'Titres', 'corps civique', 'corporation', 'poele', 'prénomNN', 'nomNN', 'surnomNN', 'NomCompletNN'])\n",
    "            DfListe.fillna('NaN')\n",
    "            DfListe.to_csv(\"./../Tables/ListesConseil/\" + Année + \"ListeConseil.csv\")        \n",
    "        "
   ]
  },
  {
   "cell_type": "code",
   "execution_count": 14,
   "metadata": {},
   "outputs": [
    {
     "ename": "KeyboardInterrupt",
     "evalue": "",
     "output_type": "error",
     "traceback": [
      "\u001b[0;31m---------------------------------------------------------------------------\u001b[0m",
      "\u001b[0;31mKeyboardInterrupt\u001b[0m                         Traceback (most recent call last)",
      "\u001b[0;32m<ipython-input-14-b86cf90d8d2a>\u001b[0m in \u001b[0;36m<module>\u001b[0;34m\u001b[0m\n\u001b[0;32m----> 1\u001b[0;31m \u001b[0mParsing\u001b[0m\u001b[0;34m(\u001b[0m\u001b[0;34m'./../Sources/EditionsXML/aves_4R_p131-220.xml'\u001b[0m\u001b[0;34m,\u001b[0m \u001b[0;34m'TEI'\u001b[0m\u001b[0;34m)\u001b[0m\u001b[0;34m\u001b[0m\u001b[0;34m\u001b[0m\u001b[0m\n\u001b[0m",
      "\u001b[0;32m<ipython-input-13-db3b8022dfa6>\u001b[0m in \u001b[0;36mParsing\u001b[0;34m(CheminRelatifFichier, DivCC)\u001b[0m\n\u001b[1;32m     52\u001b[0m                     \u001b[0mDicoPersonne\u001b[0m\u001b[0;34m[\u001b[0m\u001b[0;34m'nom'\u001b[0m\u001b[0;34m]\u001b[0m \u001b[0;34m=\u001b[0m \u001b[0;34m''\u001b[0m\u001b[0;34m\u001b[0m\u001b[0;34m\u001b[0m\u001b[0m\n\u001b[1;32m     53\u001b[0m                 \u001b[0;32mfor\u001b[0m \u001b[0mj\u001b[0m \u001b[0;32min\u001b[0m \u001b[0mrange\u001b[0m \u001b[0;34m(\u001b[0m\u001b[0;36m0\u001b[0m\u001b[0;34m,\u001b[0m \u001b[0mlen\u001b[0m\u001b[0;34m(\u001b[0m\u001b[0mRefNom\u001b[0m\u001b[0;34m.\u001b[0m\u001b[0mindex\u001b[0m\u001b[0;34m)\u001b[0m\u001b[0;34m)\u001b[0m\u001b[0;34m:\u001b[0m\u001b[0;34m\u001b[0m\u001b[0;34m\u001b[0m\u001b[0m\n\u001b[0;32m---> 54\u001b[0;31m                     \u001b[0mCheckN\u001b[0m \u001b[0;34m=\u001b[0m \u001b[0mRefNom\u001b[0m\u001b[0;34m.\u001b[0m\u001b[0miloc\u001b[0m\u001b[0;34m[\u001b[0m\u001b[0mj\u001b[0m\u001b[0;34m,\u001b[0m\u001b[0;36m1\u001b[0m\u001b[0;34m]\u001b[0m\u001b[0;34m\u001b[0m\u001b[0;34m\u001b[0m\u001b[0m\n\u001b[0m\u001b[1;32m     55\u001b[0m                     \u001b[0;32mfor\u001b[0m \u001b[0melement\u001b[0m \u001b[0;32min\u001b[0m \u001b[0mCheckN\u001b[0m\u001b[0;34m:\u001b[0m\u001b[0;34m\u001b[0m\u001b[0;34m\u001b[0m\u001b[0m\n\u001b[1;32m     56\u001b[0m                         \u001b[0;32mif\u001b[0m \u001b[0mDataToComp\u001b[0m \u001b[0;34m==\u001b[0m \u001b[0melement\u001b[0m\u001b[0;34m:\u001b[0m\u001b[0;34m\u001b[0m\u001b[0;34m\u001b[0m\u001b[0m\n",
      "\u001b[0;32m~/anaconda3/lib/python3.8/site-packages/pandas/core/indexing.py\u001b[0m in \u001b[0;36m__getitem__\u001b[0;34m(self, key)\u001b[0m\n\u001b[1;32m    867\u001b[0m             \u001b[0;32mif\u001b[0m \u001b[0mself\u001b[0m\u001b[0;34m.\u001b[0m\u001b[0m_is_scalar_access\u001b[0m\u001b[0;34m(\u001b[0m\u001b[0mkey\u001b[0m\u001b[0;34m)\u001b[0m\u001b[0;34m:\u001b[0m\u001b[0;34m\u001b[0m\u001b[0;34m\u001b[0m\u001b[0m\n\u001b[1;32m    868\u001b[0m                 \u001b[0;32mtry\u001b[0m\u001b[0;34m:\u001b[0m\u001b[0;34m\u001b[0m\u001b[0;34m\u001b[0m\u001b[0m\n\u001b[0;32m--> 869\u001b[0;31m                     \u001b[0;32mreturn\u001b[0m \u001b[0mself\u001b[0m\u001b[0;34m.\u001b[0m\u001b[0mobj\u001b[0m\u001b[0;34m.\u001b[0m\u001b[0m_get_value\u001b[0m\u001b[0;34m(\u001b[0m\u001b[0;34m*\u001b[0m\u001b[0mkey\u001b[0m\u001b[0;34m,\u001b[0m \u001b[0mtakeable\u001b[0m\u001b[0;34m=\u001b[0m\u001b[0mself\u001b[0m\u001b[0;34m.\u001b[0m\u001b[0m_takeable\u001b[0m\u001b[0;34m)\u001b[0m\u001b[0;34m\u001b[0m\u001b[0;34m\u001b[0m\u001b[0m\n\u001b[0m\u001b[1;32m    870\u001b[0m                 \u001b[0;32mexcept\u001b[0m \u001b[0;34m(\u001b[0m\u001b[0mKeyError\u001b[0m\u001b[0;34m,\u001b[0m \u001b[0mIndexError\u001b[0m\u001b[0;34m,\u001b[0m \u001b[0mAttributeError\u001b[0m\u001b[0;34m)\u001b[0m\u001b[0;34m:\u001b[0m\u001b[0;34m\u001b[0m\u001b[0;34m\u001b[0m\u001b[0m\n\u001b[1;32m    871\u001b[0m                     \u001b[0;31m# AttributeError for IntervalTree get_value\u001b[0m\u001b[0;34m\u001b[0m\u001b[0;34m\u001b[0m\u001b[0;34m\u001b[0m\u001b[0m\n",
      "\u001b[0;32m~/anaconda3/lib/python3.8/site-packages/pandas/core/frame.py\u001b[0m in \u001b[0;36m_get_value\u001b[0;34m(self, index, col, takeable)\u001b[0m\n\u001b[1;32m   3001\u001b[0m         \"\"\"\n\u001b[1;32m   3002\u001b[0m         \u001b[0;32mif\u001b[0m \u001b[0mtakeable\u001b[0m\u001b[0;34m:\u001b[0m\u001b[0;34m\u001b[0m\u001b[0;34m\u001b[0m\u001b[0m\n\u001b[0;32m-> 3003\u001b[0;31m             \u001b[0mseries\u001b[0m \u001b[0;34m=\u001b[0m \u001b[0mself\u001b[0m\u001b[0;34m.\u001b[0m\u001b[0m_ixs\u001b[0m\u001b[0;34m(\u001b[0m\u001b[0mcol\u001b[0m\u001b[0;34m,\u001b[0m \u001b[0maxis\u001b[0m\u001b[0;34m=\u001b[0m\u001b[0;36m1\u001b[0m\u001b[0;34m)\u001b[0m\u001b[0;34m\u001b[0m\u001b[0;34m\u001b[0m\u001b[0m\n\u001b[0m\u001b[1;32m   3004\u001b[0m             \u001b[0;32mreturn\u001b[0m \u001b[0mseries\u001b[0m\u001b[0;34m.\u001b[0m\u001b[0m_values\u001b[0m\u001b[0;34m[\u001b[0m\u001b[0mindex\u001b[0m\u001b[0;34m]\u001b[0m\u001b[0;34m\u001b[0m\u001b[0;34m\u001b[0m\u001b[0m\n\u001b[1;32m   3005\u001b[0m \u001b[0;34m\u001b[0m\u001b[0m\n",
      "\u001b[0;32m~/anaconda3/lib/python3.8/site-packages/pandas/core/frame.py\u001b[0m in \u001b[0;36m_ixs\u001b[0;34m(self, i, axis)\u001b[0m\n\u001b[1;32m   2845\u001b[0m \u001b[0;34m\u001b[0m\u001b[0m\n\u001b[1;32m   2846\u001b[0m             \u001b[0mvalues\u001b[0m \u001b[0;34m=\u001b[0m \u001b[0mself\u001b[0m\u001b[0;34m.\u001b[0m\u001b[0m_mgr\u001b[0m\u001b[0;34m.\u001b[0m\u001b[0miget\u001b[0m\u001b[0;34m(\u001b[0m\u001b[0mi\u001b[0m\u001b[0;34m)\u001b[0m\u001b[0;34m\u001b[0m\u001b[0;34m\u001b[0m\u001b[0m\n\u001b[0;32m-> 2847\u001b[0;31m             \u001b[0mresult\u001b[0m \u001b[0;34m=\u001b[0m \u001b[0mself\u001b[0m\u001b[0;34m.\u001b[0m\u001b[0m_box_col_values\u001b[0m\u001b[0;34m(\u001b[0m\u001b[0mvalues\u001b[0m\u001b[0;34m,\u001b[0m \u001b[0mi\u001b[0m\u001b[0;34m)\u001b[0m\u001b[0;34m\u001b[0m\u001b[0;34m\u001b[0m\u001b[0m\n\u001b[0m\u001b[1;32m   2848\u001b[0m \u001b[0;34m\u001b[0m\u001b[0m\n\u001b[1;32m   2849\u001b[0m             \u001b[0;31m# this is a cached value, mark it so\u001b[0m\u001b[0;34m\u001b[0m\u001b[0;34m\u001b[0m\u001b[0;34m\u001b[0m\u001b[0m\n",
      "\u001b[0;32m~/anaconda3/lib/python3.8/site-packages/pandas/core/frame.py\u001b[0m in \u001b[0;36m_box_col_values\u001b[0;34m(self, values, loc)\u001b[0m\n\u001b[1;32m   3184\u001b[0m         \u001b[0;31m# Lookup in columns so that if e.g. a str datetime was passed\u001b[0m\u001b[0;34m\u001b[0m\u001b[0;34m\u001b[0m\u001b[0;34m\u001b[0m\u001b[0m\n\u001b[1;32m   3185\u001b[0m         \u001b[0;31m#  we attach the Timestamp object as the name.\u001b[0m\u001b[0;34m\u001b[0m\u001b[0;34m\u001b[0m\u001b[0;34m\u001b[0m\u001b[0m\n\u001b[0;32m-> 3186\u001b[0;31m         \u001b[0mname\u001b[0m \u001b[0;34m=\u001b[0m \u001b[0mself\u001b[0m\u001b[0;34m.\u001b[0m\u001b[0mcolumns\u001b[0m\u001b[0;34m[\u001b[0m\u001b[0mloc\u001b[0m\u001b[0;34m]\u001b[0m\u001b[0;34m\u001b[0m\u001b[0;34m\u001b[0m\u001b[0m\n\u001b[0m\u001b[1;32m   3187\u001b[0m         \u001b[0mklass\u001b[0m \u001b[0;34m=\u001b[0m \u001b[0mself\u001b[0m\u001b[0;34m.\u001b[0m\u001b[0m_constructor_sliced\u001b[0m\u001b[0;34m\u001b[0m\u001b[0;34m\u001b[0m\u001b[0m\n\u001b[1;32m   3188\u001b[0m         \u001b[0;32mreturn\u001b[0m \u001b[0mklass\u001b[0m\u001b[0;34m(\u001b[0m\u001b[0mvalues\u001b[0m\u001b[0;34m,\u001b[0m \u001b[0mindex\u001b[0m\u001b[0;34m=\u001b[0m\u001b[0mself\u001b[0m\u001b[0;34m.\u001b[0m\u001b[0mindex\u001b[0m\u001b[0;34m,\u001b[0m \u001b[0mname\u001b[0m\u001b[0;34m=\u001b[0m\u001b[0mname\u001b[0m\u001b[0;34m,\u001b[0m \u001b[0mfastpath\u001b[0m\u001b[0;34m=\u001b[0m\u001b[0;32mTrue\u001b[0m\u001b[0;34m)\u001b[0m\u001b[0;34m\u001b[0m\u001b[0;34m\u001b[0m\u001b[0m\n",
      "\u001b[0;32m~/anaconda3/lib/python3.8/site-packages/pandas/core/indexes/base.py\u001b[0m in \u001b[0;36m__getitem__\u001b[0;34m(self, key)\u001b[0m\n\u001b[1;32m   4098\u001b[0m \u001b[0;34m\u001b[0m\u001b[0m\n\u001b[1;32m   4099\u001b[0m         \u001b[0;32mif\u001b[0m \u001b[0mis_scalar\u001b[0m\u001b[0;34m(\u001b[0m\u001b[0mkey\u001b[0m\u001b[0;34m)\u001b[0m\u001b[0;34m:\u001b[0m\u001b[0;34m\u001b[0m\u001b[0;34m\u001b[0m\u001b[0m\n\u001b[0;32m-> 4100\u001b[0;31m             \u001b[0mkey\u001b[0m \u001b[0;34m=\u001b[0m \u001b[0mcom\u001b[0m\u001b[0;34m.\u001b[0m\u001b[0mcast_scalar_indexer\u001b[0m\u001b[0;34m(\u001b[0m\u001b[0mkey\u001b[0m\u001b[0;34m,\u001b[0m \u001b[0mwarn_float\u001b[0m\u001b[0;34m=\u001b[0m\u001b[0;32mTrue\u001b[0m\u001b[0;34m)\u001b[0m\u001b[0;34m\u001b[0m\u001b[0;34m\u001b[0m\u001b[0m\n\u001b[0m\u001b[1;32m   4101\u001b[0m             \u001b[0;32mreturn\u001b[0m \u001b[0mgetitem\u001b[0m\u001b[0;34m(\u001b[0m\u001b[0mkey\u001b[0m\u001b[0;34m)\u001b[0m\u001b[0;34m\u001b[0m\u001b[0;34m\u001b[0m\u001b[0m\n\u001b[1;32m   4102\u001b[0m \u001b[0;34m\u001b[0m\u001b[0m\n",
      "\u001b[0;31mKeyboardInterrupt\u001b[0m: "
     ]
    }
   ],
   "source": [
    "Parsing('./../Sources/EditionsXML/aves_4R_p131-220.xml', 'TEI')"
   ]
  },
  {
   "cell_type": "code",
   "execution_count": null,
   "metadata": {},
   "outputs": [],
   "source": []
  }
 ],
 "metadata": {
  "kernelspec": {
   "display_name": "Python 3",
   "language": "python",
   "name": "python3"
  },
  "language_info": {
   "codemirror_mode": {
    "name": "ipython",
    "version": 3
   },
   "file_extension": ".py",
   "mimetype": "text/x-python",
   "name": "python",
   "nbconvert_exporter": "python",
   "pygments_lexer": "ipython3",
   "version": "3.8.5"
  }
 },
 "nbformat": 4,
 "nbformat_minor": 4
}
