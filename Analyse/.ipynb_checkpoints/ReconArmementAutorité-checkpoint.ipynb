{
 "cells": [
  {
   "cell_type": "code",
   "execution_count": 2,
   "id": "13395ed8",
   "metadata": {},
   "outputs": [],
   "source": [
    "import pandas as pd\n",
    "import numpy as np\n",
    "import jellyfish"
   ]
  },
  {
   "cell_type": "code",
   "execution_count": null,
   "id": "f8412665",
   "metadata": {},
   "outputs": [],
   "source": [
    "def SimiDistMatrix(Input1, Input2, Output, colindex1, colindex2, algo):\n",
    "    \"\"\"\n",
    "    SimiDistMatrix nécessite les modules pandas, numpy et jellyfish.\n",
    "    SimiDistMatrix est une fonction qui compare une colonne de string avec elle même crée une matrice de similarité ou de distance selon l'algorythme choisi.\n",
    "    Input : str, chemin relatif du fichier d'entrée.\n",
    "    Output : str, chemin relatif du fichier de sortie.\n",
    "    colindex : int, index de la colonne à tester.\n",
    "    algo : str, algorythme à tester (levenshtein_distance, damerau_levenshtein_distance, hamming_distance, jaro_similarity, jaro_winkler_similarity)\n",
    "    \"\"\"\n",
    "    with open(Input1, 'r', encoding='utf-8') as file1, open(Input2, 'r', encoding='utf-8') as file2 :\n",
    "        df1 = pd.read_csv(file1)\n",
    "        df1 = df1.fillna('')\n",
    "        df1['tocompare'] = df1['nom'].dropna() + df1['prenom'].dropna()\n",
    "        \n",
    "        df2 = pd.read_csv(file2)\n",
    "        df2 = df2.fillna('')\n",
    "        df2['tocompare'] = df2['nom'].dropna() + df2['prenom'].dropna()\n",
    "        \n",
    "        LsList = []\n",
    "\n",
    "        for row in df1.itertuples():\n",
    "            ArrayList = []\n"
   ]
  }
 ],
 "metadata": {
  "kernelspec": {
   "display_name": "Python 3 (ipykernel)",
   "language": "python",
   "name": "python3"
  },
  "language_info": {
   "codemirror_mode": {
    "name": "ipython",
    "version": 3
   },
   "file_extension": ".py",
   "mimetype": "text/x-python",
   "name": "python",
   "nbconvert_exporter": "python",
   "pygments_lexer": "ipython3",
   "version": "3.9.7"
  }
 },
 "nbformat": 4,
 "nbformat_minor": 5
}
