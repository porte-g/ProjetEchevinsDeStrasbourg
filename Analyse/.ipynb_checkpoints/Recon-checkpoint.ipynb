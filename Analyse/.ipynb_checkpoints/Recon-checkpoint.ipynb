{
 "cells": [
  {
   "cell_type": "code",
   "execution_count": 2,
   "metadata": {},
   "outputs": [],
   "source": [
    "import pandas as pd\n",
    "import numpy as np\n",
    "import jellyfish"
   ]
  },
  {
   "cell_type": "code",
   "execution_count": 3,
   "metadata": {},
   "outputs": [],
   "source": [
    "def SimiDistMatrix(Input, Output, colindex, algo):\n",
    "    \"\"\"\n",
    "    SimiDistMatrix nécessite les modules pandas, numpy et jellyfish.\n",
    "    SimiDistMatrix est une fonction qui compare une colonne de string avec elle même crée une matrice de similarité ou de distance selon l'algorythme choisi.\n",
    "    Input : str, chemin relatif du fichier d'entrée.\n",
    "    Output : str, chemin relatif du fichier de sortie.\n",
    "    colindex : int, index de la colonne à tester.\n",
    "    algo : str, algorythme à tester (levenshtein_distance, damerau_levenshtein_distance, hamming_distance, jaro_similarity, jaro_winkler_similarity)\n",
    "    \"\"\"\n",
    "    with open (Input, 'r', encoding='utf-8') as file :\n",
    "        df = pd.read_csv(file)\n",
    "        df = df.fillna('')\n",
    "        df['tocompare'] = df['nom'].dropna() + df['prenom'].dropna()\n",
    "\n",
    "\n",
    "        LsList = []\n",
    "\n",
    "        for row in df.itertuples():\n",
    "            ArrayList = []\n",
    "\n",
    "            #print(row)\n",
    "            for col in df.columns[colindex:]:\n",
    "                value1 = getattr(row, col)\n",
    "            for row in df.itertuples():\n",
    "                for col in df.columns[colindex:]:\n",
    "                    value2 = getattr(row, col)\n",
    "                    \n",
    "                if algo == 'levenshtein_distance' :\n",
    "                    similarity = jellyfish.levenshtein_distance(value1, value2)\n",
    "                    \n",
    "                if algo == 'damerau_levenshtein_distance' :\n",
    "                    similarity = jellyfish.damerau_levenshtein_distance(value1, value2)\n",
    "                    \n",
    "                if algo == 'hamming_distance' :\n",
    "                    similarity = jellyfish.hamming_distance(value1, value2)\n",
    "                    \n",
    "                if algo == 'jaro_similarity' :\n",
    "                    similarity = jellyfish.jaro_similarity(value1, value2)\n",
    "                    \n",
    "                if algo == 'jaro_winkler_similarity' :\n",
    "                    similarity = jellyfish.jaro_winkler_similarity(value1, value2)\n",
    "                    \n",
    "                ArrayList.append(similarity)\n",
    "            LsList.append(ArrayList)\n",
    "\n",
    "        df2 = pd.DataFrame(LsList, columns = df['id'].tolist(), index = df['id'].tolist())\n",
    "        \n",
    "        sortie = Output + algo + '.csv'\n",
    "        \n",
    "        df2.to_csv(sortie)\n"
   ]
  },
  {
   "cell_type": "code",
   "execution_count": 8,
   "metadata": {},
   "outputs": [],
   "source": [
    "SimiDistMatrix('./Data/OccEch.csv', './Data/LargeData/', 16, 'jaro_winkler_similarity')"
   ]
  }
 ],
 "metadata": {
  "kernelspec": {
   "display_name": "Python 3",
   "language": "python",
   "name": "python3"
  },
  "language_info": {
   "codemirror_mode": {
    "name": "ipython",
    "version": 3
   },
   "file_extension": ".py",
   "mimetype": "text/x-python",
   "name": "python",
   "nbconvert_exporter": "python",
   "pygments_lexer": "ipython3",
   "version": "3.8.5"
  }
 },
 "nbformat": 4,
 "nbformat_minor": 4
}
